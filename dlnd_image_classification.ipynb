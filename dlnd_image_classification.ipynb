{
 "cells": [
  {
   "cell_type": "markdown",
   "metadata": {
    "collapsed": true,
    "deletable": true,
    "editable": true
   },
   "source": [
    "# Image Classification\n",
    "In this project, you'll classify images from the [CIFAR-10 dataset](https://www.cs.toronto.edu/~kriz/cifar.html).  The dataset consists of airplanes, dogs, cats, and other objects. You'll preprocess the images, then train a convolutional neural network on all the samples. The images need to be normalized and the labels need to be one-hot encoded.  You'll get to apply what you learned and build a convolutional, max pooling, dropout, and fully connected layers.  At the end, you'll get to see your neural network's predictions on the sample images.\n",
    "## Get the Data\n",
    "Run the following cell to download the [CIFAR-10 dataset for python](https://www.cs.toronto.edu/~kriz/cifar-10-python.tar.gz)."
   ]
  },
  {
   "cell_type": "code",
   "execution_count": 1,
   "metadata": {
    "collapsed": false,
    "deletable": true,
    "editable": true
   },
   "outputs": [
    {
     "name": "stderr",
     "output_type": "stream",
     "text": [
      "CIFAR-10 Dataset: 171MB [00:30, 5.51MB/s]                              \n"
     ]
    },
    {
     "name": "stdout",
     "output_type": "stream",
     "text": [
      "All files found!\n"
     ]
    }
   ],
   "source": [
    "\"\"\"\n",
    "DON'T MODIFY ANYTHING IN THIS CELL THAT IS BELOW THIS LINE\n",
    "\"\"\"\n",
    "from urllib.request import urlretrieve\n",
    "from os.path import isfile, isdir\n",
    "from tqdm import tqdm\n",
    "import problem_unittests as tests\n",
    "import tarfile\n",
    "\n",
    "cifar10_dataset_folder_path = 'cifar-10-batches-py'\n",
    "\n",
    "# Use Floyd's cifar-10 dataset if present\n",
    "floyd_cifar10_location = '/input/cifar-10/python.tar.gz'\n",
    "if isfile(floyd_cifar10_location):\n",
    "    tar_gz_path = floyd_cifar10_location\n",
    "else:\n",
    "    tar_gz_path = 'cifar-10-python.tar.gz'\n",
    "\n",
    "class DLProgress(tqdm):\n",
    "    last_block = 0\n",
    "\n",
    "    def hook(self, block_num=1, block_size=1, total_size=None):\n",
    "        self.total = total_size\n",
    "        self.update((block_num - self.last_block) * block_size)\n",
    "        self.last_block = block_num\n",
    "\n",
    "if not isfile(tar_gz_path):\n",
    "    with DLProgress(unit='B', unit_scale=True, miniters=1, desc='CIFAR-10 Dataset') as pbar:\n",
    "        urlretrieve(\n",
    "            'https://www.cs.toronto.edu/~kriz/cifar-10-python.tar.gz',\n",
    "            tar_gz_path,\n",
    "            pbar.hook)\n",
    "\n",
    "if not isdir(cifar10_dataset_folder_path):\n",
    "    with tarfile.open(tar_gz_path) as tar:\n",
    "        tar.extractall()\n",
    "        tar.close()\n",
    "\n",
    "\n",
    "tests.test_folder_path(cifar10_dataset_folder_path)"
   ]
  },
  {
   "cell_type": "markdown",
   "metadata": {
    "deletable": true,
    "editable": true
   },
   "source": [
    "## Explore the Data\n",
    "The dataset is broken into batches to prevent your machine from running out of memory.  The CIFAR-10 dataset consists of 5 batches, named `data_batch_1`, `data_batch_2`, etc.. Each batch contains the labels and images that are one of the following:\n",
    "* airplane\n",
    "* automobile\n",
    "* bird\n",
    "* cat\n",
    "* deer\n",
    "* dog\n",
    "* frog\n",
    "* horse\n",
    "* ship\n",
    "* truck\n",
    "\n",
    "Understanding a dataset is part of making predictions on the data.  Play around with the code cell below by changing the `batch_id` and `sample_id`. The `batch_id` is the id for a batch (1-5). The `sample_id` is the id for a image and label pair in the batch.\n",
    "\n",
    "Ask yourself \"What are all possible labels?\", \"What is the range of values for the image data?\", \"Are the labels in order or random?\".  Answers to questions like these will help you preprocess the data and end up with better predictions."
   ]
  },
  {
   "cell_type": "code",
   "execution_count": 2,
   "metadata": {
    "collapsed": false,
    "deletable": true,
    "editable": true
   },
   "outputs": [
    {
     "name": "stdout",
     "output_type": "stream",
     "text": [
      "\n",
      "Stats of batch 1:\n",
      "Samples: 10000\n",
      "Label Counts: {0: 1005, 1: 974, 2: 1032, 3: 1016, 4: 999, 5: 937, 6: 1030, 7: 1001, 8: 1025, 9: 981}\n",
      "First 20 Labels: [6, 9, 9, 4, 1, 1, 2, 7, 8, 3, 4, 7, 7, 2, 9, 9, 9, 3, 2, 6]\n",
      "\n",
      "Example of Image 5:\n",
      "Image - Min Value: 0 Max Value: 252\n",
      "Image - Shape: (32, 32, 3)\n",
      "Label - Label Id: 1 Name: automobile\n"
     ]
    },
    {
     "data": {
      "image/png": "[encoded data removed]",
      "text/plain": [
       "<matplotlib.figure.Figure at 0x7effb00d0b00>"
      ]
     },
     "metadata": {
      "image/png": {
       "height": 250,
       "width": 253
      }
     },
     "output_type": "display_data"
    }
   ],
   "source": [
    "%matplotlib inline\n",
    "%config InlineBackend.figure_format = 'retina'\n",
    "\n",
    "import helper\n",
    "import numpy as np\n",
    "\n",
    "# Explore the dataset\n",
    "batch_id = 1\n",
    "sample_id = 5\n",
    "helper.display_stats(cifar10_dataset_folder_path, batch_id, sample_id)"
   ]
  },
  {
   "cell_type": "markdown",
   "metadata": {
    "deletable": true,
    "editable": true
   },
   "source": [
    "## Implement Preprocess Functions\n",
    "### Normalize\n",
    "In the cell below, implement the `normalize` function to take in image data, `x`, and return it as a normalized Numpy array. The values should be in the range of 0 to 1, inclusive.  The return object should be the same shape as `x`."
   ]
  },
  {
   "cell_type": "code",
   "execution_count": 3,
   "metadata": {
    "collapsed": false,
    "deletable": true,
    "editable": true
   },
   "outputs": [
    {
     "name": "stdout",
     "output_type": "stream",
     "text": [
      "Tests Passed\n"
     ]
    }
   ],
   "source": [
    "def normalize(x):\n",
    "    \"\"\"\n",
    "    Normalize a list of sample image data in the range of 0 to 1\n",
    "    : x: List of image data.  The image shape is (32, 32, 3)\n",
    "    : return: Numpy array of normalize data\n",
    "    \"\"\"\n",
    "    x = x / 255\n",
    "\n",
    "    return x\n",
    "\n",
    "\n",
    "\"\"\"\n",
    "DON'T MODIFY ANYTHING IN THIS CELL THAT IS BELOW THIS LINE\n",
    "\"\"\"\n",
    "tests.test_normalize(normalize)"
   ]
  },
  {
   "cell_type": "markdown",
   "metadata": {
    "deletable": true,
    "editable": true
   },
   "source": [
    "### One-hot encode\n",
    "Just like the previous code cell, you'll be implementing a function for preprocessing.  This time, you'll implement the `one_hot_encode` function. The input, `x`, are a list of labels.  Implement the function to return the list of labels as One-Hot encoded Numpy array.  The possible values for labels are 0 to 9. The one-hot encoding function should return the same encoding for each value between each call to `one_hot_encode`.  Make sure to save the map of encodings outside the function.\n",
    "\n",
    "Hint: Don't reinvent the wheel."
   ]
  },
  {
   "cell_type": "code",
   "execution_count": 4,
   "metadata": {
    "collapsed": false,
    "deletable": true,
    "editable": true
   },
   "outputs": [
    {
     "name": "stdout",
     "output_type": "stream",
     "text": [
      "Tests Passed\n"
     ]
    }
   ],
   "source": [
    "def one_hot_encode(x):\n",
    "    \"\"\"\n",
    "    One hot encode a list of sample labels. Return a one-hot encoded vector for each label.\n",
    "    : x: List of sample Labels\n",
    "    : return: Numpy array of one-hot encoded labels\n",
    "    \"\"\"\n",
    "    # TODO: Implement Function\n",
    "    from sklearn import preprocessing\n",
    "    x = np.array(x)\n",
    "    x = x[:, None]\n",
    "    one_hot_encoder = preprocessing.OneHotEncoder(n_values=10, sparse=False)\n",
    "    x = one_hot_encoder.fit_transform(x)\n",
    "    return x\n",
    "\n",
    "\n",
    "\"\"\"\n",
    "DON'T MODIFY ANYTHING IN THIS CELL THAT IS BELOW THIS LINE\n",
    "\"\"\"\n",
    "tests.test_one_hot_encode(one_hot_encode)"
   ]
  },
  {
   "cell_type": "markdown",
   "metadata": {
    "deletable": true,
    "editable": true
   },
   "source": [
    "### Randomize Data\n",
    "As you saw from exploring the data above, the order of the samples are randomized.  It doesn't hurt to randomize it again, but you don't need to for this dataset."
   ]
  },
  {
   "cell_type": "markdown",
   "metadata": {
    "deletable": true,
    "editable": true
   },
   "source": [
    "## Preprocess all the data and save it\n",
    "Running the code cell below will preprocess all the CIFAR-10 data and save it to file. The code below also uses 10% of the training data for validation."
   ]
  },
  {
   "cell_type": "code",
   "execution_count": 5,
   "metadata": {
    "collapsed": true,
    "deletable": true,
    "editable": true
   },
   "outputs": [],
   "source": [
    "\"\"\"\n",
    "DON'T MODIFY ANYTHING IN THIS CELL\n",
    "\"\"\"\n",
    "# Preprocess Training, Validation, and Testing Data\n",
    "helper.preprocess_and_save_data(cifar10_dataset_folder_path, normalize, one_hot_encode)"
   ]
  },
  {
   "cell_type": "markdown",
   "metadata": {
    "deletable": true,
    "editable": true
   },
   "source": [
    "# Check Point\n",
    "This is your first checkpoint.  If you ever decide to come back to this notebook or have to restart the notebook, you can start from here.  The preprocessed data has been saved to disk."
   ]
  },
  {
   "cell_type": "code",
   "execution_count": 58,
   "metadata": {
    "collapsed": true,
    "deletable": true,
    "editable": true
   },
   "outputs": [],
   "source": [
    "\"\"\"\n",
    "DON'T MODIFY ANYTHING IN THIS CELL\n",
    "\"\"\"\n",
    "import pickle\n",
    "import problem_unittests as tests\n",
    "import helper\n",
    "\n",
    "# Load the Preprocessed Validation data\n",
    "valid_features, valid_labels = pickle.load(open('preprocess_validation.p', mode='rb'))"
   ]
  },
  {
   "cell_type": "markdown",
   "metadata": {
    "deletable": true,
    "editable": true
   },
   "source": [
    "## Build the network\n",
    "For the neural network, you'll build each layer into a function.  Most of the code you've seen has been outside of functions. To test your code more thoroughly, we require that you put each layer in a function.  This allows us to give you better feedback and test for simple mistakes using our unittests before you submit your project.\n",
    "\n",
    ">**Note:** If you're finding it hard to dedicate enough time for this course each week, we've provided a small shortcut to this part of the project. In the next couple of problems, you'll have the option to use classes from the [TensorFlow Layers](https://www.tensorflow.org/api_docs/python/tf/layers) or [TensorFlow Layers (contrib)](https://www.tensorflow.org/api_guides/python/contrib.layers) packages to build each layer, except the layers you build in the \"Convolutional and Max Pooling Layer\" section.  TF Layers is similar to Keras's and TFLearn's abstraction to layers, so it's easy to pickup.\n",
    "\n",
    ">However, if you would like to get the most out of this course, try to solve all the problems _without_ using anything from the TF Layers packages. You **can** still use classes from other packages that happen to have the same name as ones you find in TF Layers! For example, instead of using the TF Layers version of the `conv2d` class, [tf.layers.conv2d](https://www.tensorflow.org/api_docs/python/tf/layers/conv2d), you would want to use the TF Neural Network version of `conv2d`, [tf.nn.conv2d](https://www.tensorflow.org/api_docs/python/tf/nn/conv2d). \n",
    "\n",
    "Let's begin!\n",
    "\n",
    "### Input\n",
    "The neural network needs to read the image data, one-hot encoded labels, and dropout keep probability. Implement the following functions\n",
    "* Implement `neural_net_image_input`\n",
    " * Return a [TF Placeholder](https://www.tensorflow.org/api_docs/python/tf/placeholder)\n",
    " * Set the shape using `image_shape` with batch size set to `None`.\n",
    " * Name the TensorFlow placeholder \"x\" using the TensorFlow `name` parameter in the [TF Placeholder](https://www.tensorflow.org/api_docs/python/tf/placeholder).\n",
    "* Implement `neural_net_label_input`\n",
    " * Return a [TF Placeholder](https://www.tensorflow.org/api_docs/python/tf/placeholder)\n",
    " * Set the shape using `n_classes` with batch size set to `None`.\n",
    " * Name the TensorFlow placeholder \"y\" using the TensorFlow `name` parameter in the [TF Placeholder](https://www.tensorflow.org/api_docs/python/tf/placeholder).\n",
    "* Implement `neural_net_keep_prob_input`\n",
    " * Return a [TF Placeholder](https://www.tensorflow.org/api_docs/python/tf/placeholder) for dropout keep probability.\n",
    " * Name the TensorFlow placeholder \"keep_prob\" using the TensorFlow `name` parameter in the [TF Placeholder](https://www.tensorflow.org/api_docs/python/tf/placeholder).\n",
    "\n",
    "These names will be used at the end of the project to load your saved model.\n",
    "\n",
    "Note: `None` for shapes in TensorFlow allow for a dynamic size."
   ]
  },
  {
   "cell_type": "code",
   "execution_count": 74,
   "metadata": {
    "collapsed": false,
    "deletable": true,
    "editable": true
   },
   "outputs": [
    {
     "name": "stdout",
     "output_type": "stream",
     "text": [
      "Image Input Tests Passed.\n",
      "Label Input Tests Passed.\n",
      "Keep Prob Tests Passed.\n"
     ]
    }
   ],
   "source": [
    "import tensorflow as tf\n",
    "\n",
    "def neural_net_image_input(image_shape):\n",
    "    \"\"\"\n",
    "    Return a Tensor for a batch of image input\n",
    "    : image_shape: Shape of the images\n",
    "    : return: Tensor for image input.\n",
    "    \"\"\"\n",
    "    # TODO: Implement Function\n",
    "    image_shape = list(image_shape)\n",
    "    shape = [None]\n",
    "    shape.extend(image_shape)\n",
    "    x = tf.placeholder(tf.float32, shape=shape, name='x')\n",
    "    \n",
    "    return x\n",
    "\n",
    "\n",
    "def neural_net_label_input(n_classes):\n",
    "    \"\"\"\n",
    "    Return a Tensor for a batch of label input\n",
    "    : n_classes: Number of classes\n",
    "    : return: Tensor for label input.\n",
    "    \"\"\"\n",
    "    # TODO: Implement Function\n",
    "    y = tf.placeholder(tf.float32, [None, n_classes], name='y')\n",
    "    \n",
    "    return y\n",
    "\n",
    "\n",
    "def neural_net_keep_prob_input():\n",
    "    \"\"\"\n",
    "    Return a Tensor for keep probability\n",
    "    : return: Tensor for keep probability.\n",
    "    \"\"\"\n",
    "    # TODO: Implement Function\n",
    "    keep_prob = tf.placeholder(tf.float32, name='keep_prob')\n",
    "    \n",
    "    return keep_prob\n",
    "\n",
    "\n",
    "\"\"\"\n",
    "DON'T MODIFY ANYTHING IN THIS CELL THAT IS BELOW THIS LINE\n",
    "\"\"\"\n",
    "tf.reset_default_graph()\n",
    "tests.test_nn_image_inputs(neural_net_image_input)\n",
    "tests.test_nn_label_inputs(neural_net_label_input)\n",
    "tests.test_nn_keep_prob_inputs(neural_net_keep_prob_input)"
   ]
  },
  {
   "cell_type": "markdown",
   "metadata": {
    "deletable": true,
    "editable": true
   },
   "source": [
    "### Convolution and Max Pooling Layer\n",
    "Convolution layers have a lot of success with images. For this code cell, you should implement the function `conv2d_maxpool` to apply convolution then max pooling:\n",
    "* Create the weight and bias using `conv_ksize`, `conv_num_outputs` and the shape of `x_tensor`.\n",
    "* Apply a convolution to `x_tensor` using weight and `conv_strides`.\n",
    " * We recommend you use same padding, but you're welcome to use any padding.\n",
    "* Add bias\n",
    "* Add a nonlinear activation to the convolution.\n",
    "* Apply Max Pooling using `pool_ksize` and `pool_strides`.\n",
    " * We recommend you use same padding, but you're welcome to use any padding.\n",
    "\n",
    "**Note:** You **can't** use [TensorFlow Layers](https://www.tensorflow.org/api_docs/python/tf/layers) or [TensorFlow Layers (contrib)](https://www.tensorflow.org/api_guides/python/contrib.layers) for **this** layer, but you can still use TensorFlow's [Neural Network](https://www.tensorflow.org/api_docs/python/tf/nn) package. You may still use the shortcut option for all the **other** layers."
   ]
  },
  {
   "cell_type": "code",
   "execution_count": 75,
   "metadata": {
    "collapsed": false,
    "deletable": true,
    "editable": true
   },
   "outputs": [
    {
     "name": "stdout",
     "output_type": "stream",
     "text": [
      "Tests Passed\n"
     ]
    }
   ],
   "source": [
    "def conv2d_maxpool(x_tensor, conv_num_outputs, conv_ksize, conv_strides, pool_ksize, pool_strides):\n",
    "    \"\"\"\n",
    "    Apply convolution then max pooling to x_tensor\n",
    "    :param x_tensor: TensorFlow Tensor\n",
    "    :param conv_num_outputs: Number of outputs for the convolutional layer\n",
    "    :param conv_ksize: kernal size 2-D Tuple for the convolutional layer\n",
    "    :param conv_strides: Stride 2-D Tuple for convolution\n",
    "    :param pool_ksize: kernal size 2-D Tuple for pool\n",
    "    :param pool_strides: Stride 2-D Tuple for pool\n",
    "    : return: A tensor that represents convolution and max pooling of x_tensor\n",
    "    \"\"\"\n",
    "    # TODO: Implement Function\n",
    "    # Create filter weights \n",
    "    depth = int(x_tensor.shape[-1])\n",
    "    weight = tf.Variable(tf.truncated_normal((conv_ksize[0], conv_ksize[1], depth, conv_num_outputs), stddev=0.1))\n",
    "    # Create bias\n",
    "    bias = tf.Variable(tf.truncated_normal([conv_num_outputs],stddev=0.1))\n",
    "    \n",
    "    # Conv2d\n",
    "    x = tf.nn.conv2d(x_tensor, weight, strides=[1, conv_strides[0], conv_strides[1], 1], padding='SAME')\n",
    "    \n",
    "    # Add bias\n",
    "    x = tf.nn.bias_add(x, bias)\n",
    "    \n",
    "    # Activation, use RELU here\n",
    "    x = tf.nn.relu(x)\n",
    "    \n",
    "    # Maxpooling\n",
    "    x = tf.nn.max_pool(x, ksize=[1, pool_ksize[0], pool_ksize[1], 1], strides=[1, pool_strides[0], pool_strides[1], 1], padding='SAME')\n",
    "    \n",
    "    return x\n",
    "\n",
    "\n",
    "\"\"\"\n",
    "DON'T MODIFY ANYTHING IN THIS CELL THAT IS BELOW THIS LINE\n",
    "\"\"\"\n",
    "tests.test_con_pool(conv2d_maxpool)"
   ]
  },
  {
   "cell_type": "markdown",
   "metadata": {
    "deletable": true,
    "editable": true
   },
   "source": [
    "### Flatten Layer\n",
    "Implement the `flatten` function to change the dimension of `x_tensor` from a 4-D tensor to a 2-D tensor.  The output should be the shape (*Batch Size*, *Flattened Image Size*). Shortcut option: you can use classes from the [TensorFlow Layers](https://www.tensorflow.org/api_docs/python/tf/layers) or [TensorFlow Layers (contrib)](https://www.tensorflow.org/api_guides/python/contrib.layers) packages for this layer. For more of a challenge, only use other TensorFlow packages."
   ]
  },
  {
   "cell_type": "code",
   "execution_count": 76,
   "metadata": {
    "collapsed": false,
    "deletable": true,
    "editable": true
   },
   "outputs": [
    {
     "name": "stdout",
     "output_type": "stream",
     "text": [
      "Tests Passed\n"
     ]
    }
   ],
   "source": [
    "def flatten(x_tensor):\n",
    "    \"\"\"\n",
    "    Flatten x_tensor to (Batch Size, Flattened Image Size)\n",
    "    : x_tensor: A tensor of size (Batch Size, ...), where ... are the image dimensions.\n",
    "    : return: A tensor of size (Batch Size, Flattened Image Size).\n",
    "    \"\"\"\n",
    "    # TODO: Implement Function\n",
    "    x = tf.contrib.layers.flatten(x_tensor)\n",
    "    return x\n",
    "\n",
    "\n",
    "\"\"\"\n",
    "DON'T MODIFY ANYTHING IN THIS CELL THAT IS BELOW THIS LINE\n",
    "\"\"\"\n",
    "tests.test_flatten(flatten)"
   ]
  },
  {
   "cell_type": "markdown",
   "metadata": {
    "deletable": true,
    "editable": true
   },
   "source": [
    "### Fully-Connected Layer\n",
    "Implement the `fully_conn` function to apply a fully connected layer to `x_tensor` with the shape (*Batch Size*, *num_outputs*). Shortcut option: you can use classes from the [TensorFlow Layers](https://www.tensorflow.org/api_docs/python/tf/layers) or [TensorFlow Layers (contrib)](https://www.tensorflow.org/api_guides/python/contrib.layers) packages for this layer. For more of a challenge, only use other TensorFlow packages."
   ]
  },
  {
   "cell_type": "code",
   "execution_count": 77,
   "metadata": {
    "collapsed": false,
    "deletable": true,
    "editable": true
   },
   "outputs": [
    {
     "name": "stdout",
     "output_type": "stream",
     "text": [
      "Tests Passed\n"
     ]
    }
   ],
   "source": [
    "def fully_conn(x_tensor, num_outputs):\n",
    "    \"\"\"\n",
    "    Apply a fully connected layer to x_tensor using weight and bias\n",
    "    : x_tensor: A 2-D tensor where the first dimension is batch size.\n",
    "    : num_outputs: The number of output that the new tensor should be.\n",
    "    : return: A 2-D tensor where the second dimension is num_outputs.\n",
    "    \"\"\"\n",
    "    # TODO: Implement Function\n",
    "    \n",
    "    # Creat weight and bias\n",
    "    shape = [int(x_tensor.shape[-1]), num_outputs]\n",
    "    weight = tf.Variable(tf.truncated_normal(shape, stddev=0.1))\n",
    "    bias = tf.Variable(tf.truncated_normal([num_outputs], stddev=0.1))                     \n",
    "                         \n",
    "    # Fully connected layer\n",
    "    x = tf.add(tf.matmul(x_tensor, weight), bias)\n",
    "    x = tf.nn.relu(x)     \n",
    "\n",
    "    return x\n",
    "\n",
    "\n",
    "\"\"\"\n",
    "DON'T MODIFY ANYTHING IN THIS CELL THAT IS BELOW THIS LINE\n",
    "\"\"\"\n",
    "tests.test_fully_conn(fully_conn)"
   ]
  },
  {
   "cell_type": "markdown",
   "metadata": {
    "deletable": true,
    "editable": true
   },
   "source": [
    "### Output Layer\n",
    "Implement the `output` function to apply a fully connected layer to `x_tensor` with the shape (*Batch Size*, *num_outputs*). Shortcut option: you can use classes from the [TensorFlow Layers](https://www.tensorflow.org/api_docs/python/tf/layers) or [TensorFlow Layers (contrib)](https://www.tensorflow.org/api_guides/python/contrib.layers) packages for this layer. For more of a challenge, only use other TensorFlow packages.\n",
    "\n",
    "**Note:** Activation, softmax, or cross entropy should **not** be applied to this."
   ]
  },
  {
   "cell_type": "code",
   "execution_count": 78,
   "metadata": {
    "collapsed": false,
    "deletable": true,
    "editable": true
   },
   "outputs": [
    {
     "name": "stdout",
     "output_type": "stream",
     "text": [
      "Tests Passed\n"
     ]
    }
   ],
   "source": [
    "def output(x_tensor, num_outputs):\n",
    "    \"\"\"\n",
    "    Apply a output layer to x_tensor using weight and bias\n",
    "    : x_tensor: A 2-D tensor where the first dimension is batch size.\n",
    "    : num_outputs: The number of output that the new tensor should be.\n",
    "    : return: A 2-D tensor where the second dimension is num_outputs.\n",
    "    \"\"\"\n",
    "    # TODO: Implement Function\n",
    "    shape = [int(x_tensor.shape[-1]), num_outputs]\n",
    "    weight = tf.Variable(tf.truncated_normal(shape, stddev=0.1))\n",
    "    bias = tf.Variable(tf.truncated_normal([num_outputs], stddev=0.1))                     \n",
    "                         \n",
    "    # Fully connected layer\n",
    "    x = tf.add(tf.matmul(x_tensor, weight), bias)\n",
    "\n",
    "    return x\n",
    "\n",
    "\n",
    "\"\"\"\n",
    "DON'T MODIFY ANYTHING IN THIS CELL THAT IS BELOW THIS LINE\n",
    "\"\"\"\n",
    "tests.test_output(output)"
   ]
  },
  {
   "cell_type": "markdown",
   "metadata": {
    "deletable": true,
    "editable": true
   },
   "source": [
    "### Create Convolutional Model\n",
    "Implement the function `conv_net` to create a convolutional neural network model. The function takes in a batch of images, `x`, and outputs logits.  Use the layers you created above to create this model:\n",
    "\n",
    "* Apply 1, 2, or 3 Convolution and Max Pool layers\n",
    "* Apply a Flatten Layer\n",
    "* Apply 1, 2, or 3 Fully Connected Layers\n",
    "* Apply an Output Layer\n",
    "* Return the output\n",
    "* Apply [TensorFlow's Dropout](https://www.tensorflow.org/api_docs/python/tf/nn/dropout) to one or more layers in the model using `keep_prob`. "
   ]
  },
  {
   "cell_type": "code",
   "execution_count": 85,
   "metadata": {
    "collapsed": false,
    "deletable": true,
    "editable": true
   },
   "outputs": [
    {
     "name": "stdout",
     "output_type": "stream",
     "text": [
      "Neural Network Built!\n"
     ]
    }
   ],
   "source": [
    "def conv_net(x, keep_prob):\n",
    "    \"\"\"\n",
    "    Create a convolutional neural network model\n",
    "    : x: Placeholder tensor that holds image data.\n",
    "    : keep_prob: Placeholder tensor that hold dropout keep probability.\n",
    "    : return: Tensor that represents logits\n",
    "    \"\"\"\n",
    "    # TODO: Apply 1, 2, or 3 Convolution and Max Pool layers\n",
    "    #    Play around with different number of outputs, kernel size and stride\n",
    "    # Function Definition from Above:\n",
    "    #    conv2d_maxpool(x_tensor, conv_num_outputs, conv_ksize, conv_strides, pool_ksize, pool_strides)\n",
    "    x = conv2d_maxpool(x, 64, (3,3), (2,2), (2,2), (2,2))\n",
    "    #x = tf.nn.dropout(x, keep_prob)\n",
    "    \n",
    "    x = conv2d_maxpool(x, 128, (5,5), (2,2), (2,2), (2,2))\n",
    "    #x = tf.nn.dropout(x, keep_prob)\n",
    "    \n",
    "    x = conv2d_maxpool(x, 256, (7, 7), (2,2), (2,2), (2,2))\n",
    "    #x = tf.nn.dropout(x, keep_prob)\n",
    "    \n",
    "    # TODO: Apply a Flatten Layer\n",
    "    # Function Definition from Above:\n",
    "    #   flatten(x_tensor)\n",
    "    x = flatten(x)\n",
    "    x = tf.nn.dropout(x, keep_prob)\n",
    "\n",
    "    # TODO: Apply 1, 2, or 3 Fully Connected Layers\n",
    "    #    Play around with different number of outputs\n",
    "    # Function Definition from Above:\n",
    "    #   fully_conn(x_tensor, num_outputs)\n",
    "    x = fully_conn(x, 2048)\n",
    "    x = tf.nn.dropout(x, keep_prob)\n",
    "    x = fully_conn(x, 1024)\n",
    "    x = fully_conn(x, 256)\n",
    "    \n",
    "    # TODO: Apply an Output Layer\n",
    "    #    Set this to the number of classes\n",
    "    # Function Definition from Above:\n",
    "    #   output(x_tensor, num_outputs)\n",
    "    x = output(x, 10)\n",
    "    \n",
    "    # TODO: return output\n",
    "    return x\n",
    "\n",
    "\n",
    "\"\"\"\n",
    "DON'T MODIFY ANYTHING IN THIS CELL THAT IS BELOW THIS LINE\n",
    "\"\"\"\n",
    "\n",
    "##############################\n",
    "## Build the Neural Network ##\n",
    "##############################\n",
    "\n",
    "# Remove previous weights, bias, inputs, etc..\n",
    "tf.reset_default_graph()\n",
    "\n",
    "# Inputs\n",
    "x = neural_net_image_input((32, 32, 3))\n",
    "y = neural_net_label_input(10)\n",
    "keep_prob = neural_net_keep_prob_input()\n",
    "\n",
    "# Model\n",
    "logits = conv_net(x, keep_prob)\n",
    "\n",
    "# Name logits Tensor, so that is can be loaded from disk after training\n",
    "logits = tf.identity(logits, name='logits')\n",
    "\n",
    "# Loss and Optimizer\n",
    "cost = tf.reduce_mean(tf.nn.softmax_cross_entropy_with_logits(logits=logits, labels=y))\n",
    "optimizer = tf.train.AdamOptimizer().minimize(cost)\n",
    "\n",
    "# Accuracy\n",
    "correct_pred = tf.equal(tf.argmax(logits, 1), tf.argmax(y, 1))\n",
    "accuracy = tf.reduce_mean(tf.cast(correct_pred, tf.float32), name='accuracy')\n",
    "\n",
    "tests.test_conv_net(conv_net)"
   ]
  },
  {
   "cell_type": "markdown",
   "metadata": {
    "deletable": true,
    "editable": true
   },
   "source": [
    "## Train the Neural Network\n",
    "### Single Optimization\n",
    "Implement the function `train_neural_network` to do a single optimization.  The optimization should use `optimizer` to optimize in `session` with a `feed_dict` of the following:\n",
    "* `x` for image input\n",
    "* `y` for labels\n",
    "* `keep_prob` for keep probability for dropout\n",
    "\n",
    "This function will be called for each batch, so `tf.global_variables_initializer()` has already been called.\n",
    "\n",
    "Note: Nothing needs to be returned. This function is only optimizing the neural network."
   ]
  },
  {
   "cell_type": "code",
   "execution_count": 80,
   "metadata": {
    "collapsed": false,
    "deletable": true,
    "editable": true
   },
   "outputs": [
    {
     "name": "stdout",
     "output_type": "stream",
     "text": [
      "Tests Passed\n"
     ]
    }
   ],
   "source": [
    "def train_neural_network(session, optimizer, keep_probability, feature_batch, label_batch):\n",
    "    \"\"\"\n",
    "    Optimize the session on a batch of images and labels\n",
    "    : session: Current TensorFlow session\n",
    "    : optimizer: TensorFlow optimizer function\n",
    "    : keep_probability: keep probability\n",
    "    : feature_batch: Batch of Numpy image data\n",
    "    : label_batch: Batch of Numpy label data\n",
    "    \"\"\"\n",
    "    # TODO: Implement Function\n",
    "    session.run(optimizer, feed_dict={x:feature_batch, y:label_batch, keep_prob:keep_probability})\n",
    "    return \n",
    "\n",
    "\n",
    "\"\"\"\n",
    "DON'T MODIFY ANYTHING IN THIS CELL THAT IS BELOW THIS LINE\n",
    "\"\"\"\n",
    "tests.test_train_nn(train_neural_network)"
   ]
  },
  {
   "cell_type": "markdown",
   "metadata": {
    "deletable": true,
    "editable": true
   },
   "source": [
    "### Show Stats\n",
    "Implement the function `print_stats` to print loss and validation accuracy.  Use the global variables `valid_features` and `valid_labels` to calculate validation accuracy.  Use a keep probability of `1.0` to calculate the loss and validation accuracy."
   ]
  },
  {
   "cell_type": "code",
   "execution_count": 81,
   "metadata": {
    "collapsed": true,
    "deletable": true,
    "editable": true
   },
   "outputs": [],
   "source": [
    "def print_stats(session, feature_batch, label_batch, cost, accuracy):\n",
    "    \"\"\"\n",
    "    Print information about loss and validation accuracy\n",
    "    : session: Current TensorFlow session\n",
    "    : feature_batch: Batch of Numpy image data\n",
    "    : label_batch: Batch of Numpy label data\n",
    "    : cost: TensorFlow cost function\n",
    "    : accuracy: TensorFlow accuracy function\n",
    "    \"\"\"\n",
    "    # TODO: Implement Function\n",
    "    loss = session.run(cost, feed_dict={x:feature_batch, y:label_batch, keep_prob:1.0})\n",
    "    train_acc = session.run(accuracy, feed_dict={x:feature_batch, y:label_batch, keep_prob:1.0})\n",
    "    valid_acc = session.run(accuracy, feed_dict={x:valid_features, y:valid_labels, keep_prob:1.0})\n",
    "    \n",
    "    print('Loss = {0:.3f}, Training_Accuracy = {1:.3f}, Validation_Accuracy = {2:.3f}'.format(loss, train_acc, valid_acc))\n",
    "    \n",
    "    return"
   ]
  },
  {
   "cell_type": "markdown",
   "metadata": {
    "deletable": true,
    "editable": true
   },
   "source": [
    "### Hyperparameters\n",
    "Tune the following parameters:\n",
    "* Set `epochs` to the number of iterations until the network stops learning or start overfitting\n",
    "* Set `batch_size` to the highest number that your machine has memory for.  Most people set them to common sizes of memory:\n",
    " * 64\n",
    " * 128\n",
    " * 256\n",
    " * ...\n",
    "* Set `keep_probability` to the probability of keeping a node using dropout"
   ]
  },
  {
   "cell_type": "code",
   "execution_count": 86,
   "metadata": {
    "collapsed": true,
    "deletable": true,
    "editable": true
   },
   "outputs": [],
   "source": [
    "# TODO: Tune Parameters\n",
    "epochs = 30\n",
    "batch_size = 1024\n",
    "keep_probability = 0.8"
   ]
  },
  {
   "cell_type": "markdown",
   "metadata": {
    "deletable": true,
    "editable": true
   },
   "source": [
    "### Train on a Single CIFAR-10 Batch\n",
    "Instead of training the neural network on all the CIFAR-10 batches of data, let's use a single batch. This should save time while you iterate on the model to get a better accuracy.  Once the final validation accuracy is 50% or greater, run the model on all the data in the next section."
   ]
  },
  {
   "cell_type": "code",
   "execution_count": 87,
   "metadata": {
    "collapsed": false,
    "deletable": true,
    "editable": true
   },
   "outputs": [
    {
     "name": "stdout",
     "output_type": "stream",
     "text": [
      "Checking the Training on a Single Batch...\n",
      "Epoch  1, CIFAR-10 Batch 1:  Loss = 2.337, Training_Accuracy = 0.129, Validation_Accuracy = 0.131\n",
      "Epoch  2, CIFAR-10 Batch 1:  Loss = 2.164, Training_Accuracy = 0.175, Validation_Accuracy = 0.174\n",
      "Epoch  3, CIFAR-10 Batch 1:  Loss = 2.034, Training_Accuracy = 0.259, Validation_Accuracy = 0.270\n",
      "Epoch  4, CIFAR-10 Batch 1:  Loss = 1.935, Training_Accuracy = 0.303, Validation_Accuracy = 0.295\n",
      "Epoch  5, CIFAR-10 Batch 1:  Loss = 1.852, Training_Accuracy = 0.342, Validation_Accuracy = 0.333\n",
      "Epoch  6, CIFAR-10 Batch 1:  Loss = 1.761, Training_Accuracy = 0.380, Validation_Accuracy = 0.348\n",
      "Epoch  7, CIFAR-10 Batch 1:  Loss = 1.650, Training_Accuracy = 0.412, Validation_Accuracy = 0.387\n",
      "Epoch  8, CIFAR-10 Batch 1:  Loss = 1.586, Training_Accuracy = 0.436, Validation_Accuracy = 0.401\n",
      "Epoch  9, CIFAR-10 Batch 1:  Loss = 1.536, Training_Accuracy = 0.446, Validation_Accuracy = 0.414\n",
      "Epoch 10, CIFAR-10 Batch 1:  Loss = 1.471, Training_Accuracy = 0.481, Validation_Accuracy = 0.431\n",
      "Epoch 11, CIFAR-10 Batch 1:  Loss = 1.426, Training_Accuracy = 0.489, Validation_Accuracy = 0.443\n",
      "Epoch 12, CIFAR-10 Batch 1:  Loss = 1.372, Training_Accuracy = 0.510, Validation_Accuracy = 0.458\n",
      "Epoch 13, CIFAR-10 Batch 1:  Loss = 1.318, Training_Accuracy = 0.543, Validation_Accuracy = 0.468\n",
      "Epoch 14, CIFAR-10 Batch 1:  Loss = 1.275, Training_Accuracy = 0.541, Validation_Accuracy = 0.468\n",
      "Epoch 15, CIFAR-10 Batch 1:  Loss = 1.227, Training_Accuracy = 0.561, Validation_Accuracy = 0.461\n",
      "Epoch 16, CIFAR-10 Batch 1:  Loss = 1.168, Training_Accuracy = 0.583, Validation_Accuracy = 0.478\n",
      "Epoch 17, CIFAR-10 Batch 1:  Loss = 1.115, Training_Accuracy = 0.597, Validation_Accuracy = 0.484\n",
      "Epoch 18, CIFAR-10 Batch 1:  Loss = 1.074, Training_Accuracy = 0.619, Validation_Accuracy = 0.497\n",
      "Epoch 19, CIFAR-10 Batch 1:  Loss = 1.027, Training_Accuracy = 0.631, Validation_Accuracy = 0.493\n",
      "Epoch 20, CIFAR-10 Batch 1:  Loss = 1.000, Training_Accuracy = 0.663, Validation_Accuracy = 0.496\n",
      "Epoch 21, CIFAR-10 Batch 1:  Loss = 0.988, Training_Accuracy = 0.650, Validation_Accuracy = 0.490\n",
      "Epoch 22, CIFAR-10 Batch 1:  Loss = 0.969, Training_Accuracy = 0.651, Validation_Accuracy = 0.494\n",
      "Epoch 23, CIFAR-10 Batch 1:  Loss = 0.901, Training_Accuracy = 0.696, Validation_Accuracy = 0.500\n",
      "Epoch 24, CIFAR-10 Batch 1:  Loss = 0.877, Training_Accuracy = 0.696, Validation_Accuracy = 0.497\n",
      "Epoch 25, CIFAR-10 Batch 1:  Loss = 0.792, Training_Accuracy = 0.726, Validation_Accuracy = 0.517\n",
      "Epoch 26, CIFAR-10 Batch 1:  Loss = 0.767, Training_Accuracy = 0.741, Validation_Accuracy = 0.519\n",
      "Epoch 27, CIFAR-10 Batch 1:  Loss = 0.684, Training_Accuracy = 0.786, Validation_Accuracy = 0.523\n",
      "Epoch 28, CIFAR-10 Batch 1:  Loss = 0.682, Training_Accuracy = 0.769, Validation_Accuracy = 0.522\n",
      "Epoch 29, CIFAR-10 Batch 1:  Loss = 0.732, Training_Accuracy = 0.736, Validation_Accuracy = 0.500\n",
      "Epoch 30, CIFAR-10 Batch 1:  Loss = 0.646, Training_Accuracy = 0.778, Validation_Accuracy = 0.512\n"
     ]
    }
   ],
   "source": [
    "\"\"\"\n",
    "DON'T MODIFY ANYTHING IN THIS CELL\n",
    "\"\"\"\n",
    "print('Checking the Training on a Single Batch...')\n",
    "with tf.Session() as sess:\n",
    "    # Initializing the variables\n",
    "    sess.run(tf.global_variables_initializer())\n",
    "    \n",
    "    # Training cycle\n",
    "    for epoch in range(epochs):\n",
    "        batch_i = 1\n",
    "        for batch_features, batch_labels in helper.load_preprocess_training_batch(batch_i, batch_size):\n",
    "            train_neural_network(sess, optimizer, keep_probability, batch_features, batch_labels)\n",
    "        print('Epoch {:>2}, CIFAR-10 Batch {}:  '.format(epoch + 1, batch_i), end='')\n",
    "        print_stats(sess, batch_features, batch_labels, cost, accuracy)"
   ]
  },
  {
   "cell_type": "markdown",
   "metadata": {
    "deletable": true,
    "editable": true
   },
   "source": [
    "### Fully Train the Model\n",
    "Now that you got a good accuracy with a single CIFAR-10 batch, try it with all five batches."
   ]
  },
  {
   "cell_type": "code",
   "execution_count": 88,
   "metadata": {
    "collapsed": false,
    "deletable": true,
    "editable": true
   },
   "outputs": [
    {
     "name": "stdout",
     "output_type": "stream",
     "text": [
      "Training...\n",
      "Epoch  1, CIFAR-10 Batch 1:  Loss = 2.611, Training_Accuracy = 0.111, Validation_Accuracy = 0.122\n",
      "Epoch  1, CIFAR-10 Batch 2:  Loss = 2.257, Training_Accuracy = 0.140, Validation_Accuracy = 0.151\n",
      "Epoch  1, CIFAR-10 Batch 3:  Loss = 2.056, Training_Accuracy = 0.285, Validation_Accuracy = 0.279\n",
      "Epoch  1, CIFAR-10 Batch 4:  Loss = 1.857, Training_Accuracy = 0.340, Validation_Accuracy = 0.323\n",
      "Epoch  1, CIFAR-10 Batch 5:  Loss = 1.792, Training_Accuracy = 0.335, Validation_Accuracy = 0.341\n",
      "Epoch  2, CIFAR-10 Batch 1:  Loss = 1.738, Training_Accuracy = 0.382, Validation_Accuracy = 0.361\n",
      "Epoch  2, CIFAR-10 Batch 2:  Loss = 1.663, Training_Accuracy = 0.426, Validation_Accuracy = 0.390\n",
      "Epoch  2, CIFAR-10 Batch 3:  Loss = 1.564, Training_Accuracy = 0.448, Validation_Accuracy = 0.393\n",
      "Epoch  2, CIFAR-10 Batch 4:  Loss = 1.531, Training_Accuracy = 0.432, Validation_Accuracy = 0.422\n",
      "Epoch  2, CIFAR-10 Batch 5:  Loss = 1.485, Training_Accuracy = 0.472, Validation_Accuracy = 0.422\n",
      "Epoch  3, CIFAR-10 Batch 1:  Loss = 1.485, Training_Accuracy = 0.459, Validation_Accuracy = 0.438\n",
      "Epoch  3, CIFAR-10 Batch 2:  Loss = 1.445, Training_Accuracy = 0.498, Validation_Accuracy = 0.455\n",
      "Epoch  3, CIFAR-10 Batch 3:  Loss = 1.383, Training_Accuracy = 0.496, Validation_Accuracy = 0.467\n",
      "Epoch  3, CIFAR-10 Batch 4:  Loss = 1.372, Training_Accuracy = 0.511, Validation_Accuracy = 0.478\n",
      "Epoch  3, CIFAR-10 Batch 5:  Loss = 1.338, Training_Accuracy = 0.514, Validation_Accuracy = 0.471\n",
      "Epoch  4, CIFAR-10 Batch 1:  Loss = 1.414, Training_Accuracy = 0.480, Validation_Accuracy = 0.460\n",
      "Epoch  4, CIFAR-10 Batch 2:  Loss = 1.345, Training_Accuracy = 0.510, Validation_Accuracy = 0.494\n",
      "Epoch  4, CIFAR-10 Batch 3:  Loss = 1.288, Training_Accuracy = 0.522, Validation_Accuracy = 0.490\n",
      "Epoch  4, CIFAR-10 Batch 4:  Loss = 1.277, Training_Accuracy = 0.532, Validation_Accuracy = 0.504\n",
      "Epoch  4, CIFAR-10 Batch 5:  Loss = 1.249, Training_Accuracy = 0.561, Validation_Accuracy = 0.494\n",
      "Epoch  5, CIFAR-10 Batch 1:  Loss = 1.267, Training_Accuracy = 0.545, Validation_Accuracy = 0.505\n",
      "Epoch  5, CIFAR-10 Batch 2:  Loss = 1.239, Training_Accuracy = 0.563, Validation_Accuracy = 0.519\n",
      "Epoch  5, CIFAR-10 Batch 3:  Loss = 1.204, Training_Accuracy = 0.554, Validation_Accuracy = 0.516\n",
      "Epoch  5, CIFAR-10 Batch 4:  Loss = 1.189, Training_Accuracy = 0.573, Validation_Accuracy = 0.522\n",
      "Epoch  5, CIFAR-10 Batch 5:  Loss = 1.192, Training_Accuracy = 0.567, Validation_Accuracy = 0.514\n",
      "Epoch  6, CIFAR-10 Batch 1:  Loss = 1.201, Training_Accuracy = 0.566, Validation_Accuracy = 0.523\n",
      "Epoch  6, CIFAR-10 Batch 2:  Loss = 1.177, Training_Accuracy = 0.574, Validation_Accuracy = 0.527\n",
      "Epoch  6, CIFAR-10 Batch 3:  Loss = 1.137, Training_Accuracy = 0.575, Validation_Accuracy = 0.536\n",
      "Epoch  6, CIFAR-10 Batch 4:  Loss = 1.129, Training_Accuracy = 0.595, Validation_Accuracy = 0.536\n",
      "Epoch  6, CIFAR-10 Batch 5:  Loss = 1.114, Training_Accuracy = 0.592, Validation_Accuracy = 0.534\n",
      "Epoch  7, CIFAR-10 Batch 1:  Loss = 1.136, Training_Accuracy = 0.595, Validation_Accuracy = 0.541\n",
      "Epoch  7, CIFAR-10 Batch 2:  Loss = 1.094, Training_Accuracy = 0.593, Validation_Accuracy = 0.547\n",
      "Epoch  7, CIFAR-10 Batch 3:  Loss = 1.085, Training_Accuracy = 0.594, Validation_Accuracy = 0.548\n",
      "Epoch  7, CIFAR-10 Batch 4:  Loss = 1.067, Training_Accuracy = 0.624, Validation_Accuracy = 0.557\n",
      "Epoch  7, CIFAR-10 Batch 5:  Loss = 1.043, Training_Accuracy = 0.630, Validation_Accuracy = 0.554\n",
      "Epoch  8, CIFAR-10 Batch 1:  Loss = 1.081, Training_Accuracy = 0.601, Validation_Accuracy = 0.556\n",
      "Epoch  8, CIFAR-10 Batch 2:  Loss = 1.052, Training_Accuracy = 0.620, Validation_Accuracy = 0.549\n",
      "Epoch  8, CIFAR-10 Batch 3:  Loss = 1.035, Training_Accuracy = 0.613, Validation_Accuracy = 0.563\n",
      "Epoch  8, CIFAR-10 Batch 4:  Loss = 1.005, Training_Accuracy = 0.644, Validation_Accuracy = 0.564\n",
      "Epoch  8, CIFAR-10 Batch 5:  Loss = 0.972, Training_Accuracy = 0.651, Validation_Accuracy = 0.568\n",
      "Epoch  9, CIFAR-10 Batch 1:  Loss = 1.031, Training_Accuracy = 0.627, Validation_Accuracy = 0.566\n",
      "Epoch  9, CIFAR-10 Batch 2:  Loss = 0.974, Training_Accuracy = 0.640, Validation_Accuracy = 0.572\n",
      "Epoch  9, CIFAR-10 Batch 3:  Loss = 0.972, Training_Accuracy = 0.636, Validation_Accuracy = 0.578\n",
      "Epoch  9, CIFAR-10 Batch 4:  Loss = 0.949, Training_Accuracy = 0.672, Validation_Accuracy = 0.577\n",
      "Epoch  9, CIFAR-10 Batch 5:  Loss = 0.929, Training_Accuracy = 0.671, Validation_Accuracy = 0.572\n",
      "Epoch 10, CIFAR-10 Batch 1:  Loss = 0.985, Training_Accuracy = 0.657, Validation_Accuracy = 0.571\n",
      "Epoch 10, CIFAR-10 Batch 2:  Loss = 0.932, Training_Accuracy = 0.653, Validation_Accuracy = 0.579\n",
      "Epoch 10, CIFAR-10 Batch 3:  Loss = 0.933, Training_Accuracy = 0.676, Validation_Accuracy = 0.579\n",
      "Epoch 10, CIFAR-10 Batch 4:  Loss = 0.921, Training_Accuracy = 0.671, Validation_Accuracy = 0.583\n",
      "Epoch 10, CIFAR-10 Batch 5:  Loss = 0.902, Training_Accuracy = 0.668, Validation_Accuracy = 0.580\n",
      "Epoch 11, CIFAR-10 Batch 1:  Loss = 0.957, Training_Accuracy = 0.661, Validation_Accuracy = 0.571\n",
      "Epoch 11, CIFAR-10 Batch 2:  Loss = 0.897, Training_Accuracy = 0.666, Validation_Accuracy = 0.586\n",
      "Epoch 11, CIFAR-10 Batch 3:  Loss = 0.881, Training_Accuracy = 0.677, Validation_Accuracy = 0.594\n",
      "Epoch 11, CIFAR-10 Batch 4:  Loss = 0.883, Training_Accuracy = 0.692, Validation_Accuracy = 0.592\n",
      "Epoch 11, CIFAR-10 Batch 5:  Loss = 0.866, Training_Accuracy = 0.700, Validation_Accuracy = 0.581\n",
      "Epoch 12, CIFAR-10 Batch 1:  Loss = 0.919, Training_Accuracy = 0.668, Validation_Accuracy = 0.580\n",
      "Epoch 12, CIFAR-10 Batch 2:  Loss = 0.868, Training_Accuracy = 0.684, Validation_Accuracy = 0.588\n",
      "Epoch 12, CIFAR-10 Batch 3:  Loss = 0.850, Training_Accuracy = 0.682, Validation_Accuracy = 0.599\n",
      "Epoch 12, CIFAR-10 Batch 4:  Loss = 0.858, Training_Accuracy = 0.698, Validation_Accuracy = 0.586\n",
      "Epoch 12, CIFAR-10 Batch 5:  Loss = 0.822, Training_Accuracy = 0.712, Validation_Accuracy = 0.596\n",
      "Epoch 13, CIFAR-10 Batch 1:  Loss = 0.866, Training_Accuracy = 0.691, Validation_Accuracy = 0.590\n",
      "Epoch 13, CIFAR-10 Batch 2:  Loss = 0.821, Training_Accuracy = 0.713, Validation_Accuracy = 0.588\n",
      "Epoch 13, CIFAR-10 Batch 3:  Loss = 0.822, Training_Accuracy = 0.698, Validation_Accuracy = 0.599\n",
      "Epoch 13, CIFAR-10 Batch 4:  Loss = 0.818, Training_Accuracy = 0.714, Validation_Accuracy = 0.593\n",
      "Epoch 13, CIFAR-10 Batch 5:  Loss = 0.781, Training_Accuracy = 0.728, Validation_Accuracy = 0.604\n",
      "Epoch 14, CIFAR-10 Batch 1:  Loss = 0.818, Training_Accuracy = 0.703, Validation_Accuracy = 0.602\n",
      "Epoch 14, CIFAR-10 Batch 2:  Loss = 0.773, Training_Accuracy = 0.719, Validation_Accuracy = 0.602\n",
      "Epoch 14, CIFAR-10 Batch 3:  Loss = 0.756, Training_Accuracy = 0.738, Validation_Accuracy = 0.605\n",
      "Epoch 14, CIFAR-10 Batch 4:  Loss = 0.792, Training_Accuracy = 0.733, Validation_Accuracy = 0.590\n",
      "Epoch 14, CIFAR-10 Batch 5:  Loss = 0.775, Training_Accuracy = 0.726, Validation_Accuracy = 0.597\n",
      "Epoch 15, CIFAR-10 Batch 1:  Loss = 0.797, Training_Accuracy = 0.734, Validation_Accuracy = 0.605\n",
      "Epoch 15, CIFAR-10 Batch 2:  Loss = 0.739, Training_Accuracy = 0.751, Validation_Accuracy = 0.599\n",
      "Epoch 15, CIFAR-10 Batch 3:  Loss = 0.830, Training_Accuracy = 0.718, Validation_Accuracy = 0.582\n",
      "Epoch 15, CIFAR-10 Batch 4:  Loss = 0.805, Training_Accuracy = 0.725, Validation_Accuracy = 0.582\n",
      "Epoch 15, CIFAR-10 Batch 5:  Loss = 0.747, Training_Accuracy = 0.750, Validation_Accuracy = 0.604\n",
      "Epoch 16, CIFAR-10 Batch 1:  Loss = 0.783, Training_Accuracy = 0.726, Validation_Accuracy = 0.613\n",
      "Epoch 16, CIFAR-10 Batch 2:  Loss = 0.720, Training_Accuracy = 0.749, Validation_Accuracy = 0.604\n",
      "Epoch 16, CIFAR-10 Batch 3:  Loss = 0.754, Training_Accuracy = 0.729, Validation_Accuracy = 0.596\n",
      "Epoch 16, CIFAR-10 Batch 4:  Loss = 0.718, Training_Accuracy = 0.735, Validation_Accuracy = 0.613\n",
      "Epoch 16, CIFAR-10 Batch 5:  Loss = 0.699, Training_Accuracy = 0.764, Validation_Accuracy = 0.610\n",
      "Epoch 17, CIFAR-10 Batch 1:  Loss = 0.744, Training_Accuracy = 0.749, Validation_Accuracy = 0.617\n",
      "Epoch 17, CIFAR-10 Batch 2:  Loss = 0.674, Training_Accuracy = 0.767, Validation_Accuracy = 0.616\n",
      "Epoch 17, CIFAR-10 Batch 3:  Loss = 0.712, Training_Accuracy = 0.760, Validation_Accuracy = 0.608\n",
      "Epoch 17, CIFAR-10 Batch 4:  Loss = 0.714, Training_Accuracy = 0.746, Validation_Accuracy = 0.600\n",
      "Epoch 17, CIFAR-10 Batch 5:  Loss = 0.677, Training_Accuracy = 0.764, Validation_Accuracy = 0.613\n",
      "Epoch 18, CIFAR-10 Batch 1:  Loss = 0.694, Training_Accuracy = 0.764, Validation_Accuracy = 0.617\n",
      "Epoch 18, CIFAR-10 Batch 2:  Loss = 0.640, Training_Accuracy = 0.787, Validation_Accuracy = 0.623\n",
      "Epoch 18, CIFAR-10 Batch 3:  Loss = 0.691, Training_Accuracy = 0.760, Validation_Accuracy = 0.610\n",
      "Epoch 18, CIFAR-10 Batch 4:  Loss = 0.669, Training_Accuracy = 0.772, Validation_Accuracy = 0.614\n",
      "Epoch 18, CIFAR-10 Batch 5:  Loss = 0.677, Training_Accuracy = 0.782, Validation_Accuracy = 0.603\n",
      "Epoch 19, CIFAR-10 Batch 1:  Loss = 0.759, Training_Accuracy = 0.730, Validation_Accuracy = 0.596\n",
      "Epoch 19, CIFAR-10 Batch 2:  Loss = 0.653, Training_Accuracy = 0.770, Validation_Accuracy = 0.615\n",
      "Epoch 19, CIFAR-10 Batch 3:  Loss = 0.650, Training_Accuracy = 0.788, Validation_Accuracy = 0.622\n",
      "Epoch 19, CIFAR-10 Batch 4:  Loss = 0.636, Training_Accuracy = 0.787, Validation_Accuracy = 0.617\n",
      "Epoch 19, CIFAR-10 Batch 5:  Loss = 0.606, Training_Accuracy = 0.801, Validation_Accuracy = 0.616\n",
      "Epoch 20, CIFAR-10 Batch 1:  Loss = 0.658, Training_Accuracy = 0.774, Validation_Accuracy = 0.624\n",
      "Epoch 20, CIFAR-10 Batch 2:  Loss = 0.599, Training_Accuracy = 0.803, Validation_Accuracy = 0.619\n",
      "Epoch 20, CIFAR-10 Batch 3:  Loss = 0.615, Training_Accuracy = 0.798, Validation_Accuracy = 0.621\n",
      "Epoch 20, CIFAR-10 Batch 4:  Loss = 0.584, Training_Accuracy = 0.798, Validation_Accuracy = 0.623\n",
      "Epoch 20, CIFAR-10 Batch 5:  Loss = 0.580, Training_Accuracy = 0.808, Validation_Accuracy = 0.617\n",
      "Epoch 21, CIFAR-10 Batch 1:  Loss = 0.627, Training_Accuracy = 0.782, Validation_Accuracy = 0.620\n",
      "Epoch 21, CIFAR-10 Batch 2:  Loss = 0.572, Training_Accuracy = 0.801, Validation_Accuracy = 0.626\n",
      "Epoch 21, CIFAR-10 Batch 3:  Loss = 0.561, Training_Accuracy = 0.818, Validation_Accuracy = 0.624\n",
      "Epoch 21, CIFAR-10 Batch 4:  Loss = 0.571, Training_Accuracy = 0.803, Validation_Accuracy = 0.625\n",
      "Epoch 21, CIFAR-10 Batch 5:  Loss = 0.559, Training_Accuracy = 0.814, Validation_Accuracy = 0.614\n",
      "Epoch 22, CIFAR-10 Batch 1:  Loss = 0.592, Training_Accuracy = 0.800, Validation_Accuracy = 0.628\n",
      "Epoch 22, CIFAR-10 Batch 2:  Loss = 0.530, Training_Accuracy = 0.817, Validation_Accuracy = 0.630\n",
      "Epoch 22, CIFAR-10 Batch 3:  Loss = 0.535, Training_Accuracy = 0.825, Validation_Accuracy = 0.630\n",
      "Epoch 22, CIFAR-10 Batch 4:  Loss = 0.546, Training_Accuracy = 0.808, Validation_Accuracy = 0.627\n",
      "Epoch 22, CIFAR-10 Batch 5:  Loss = 0.509, Training_Accuracy = 0.833, Validation_Accuracy = 0.625\n",
      "Epoch 23, CIFAR-10 Batch 1:  Loss = 0.613, Training_Accuracy = 0.783, Validation_Accuracy = 0.615\n",
      "Epoch 23, CIFAR-10 Batch 2:  Loss = 0.512, Training_Accuracy = 0.823, Validation_Accuracy = 0.635\n",
      "Epoch 23, CIFAR-10 Batch 3:  Loss = 0.526, Training_Accuracy = 0.824, Validation_Accuracy = 0.633\n",
      "Epoch 23, CIFAR-10 Batch 4:  Loss = 0.506, Training_Accuracy = 0.829, Validation_Accuracy = 0.631\n",
      "Epoch 23, CIFAR-10 Batch 5:  Loss = 0.470, Training_Accuracy = 0.853, Validation_Accuracy = 0.635\n",
      "Epoch 24, CIFAR-10 Batch 1:  Loss = 0.567, Training_Accuracy = 0.802, Validation_Accuracy = 0.626\n",
      "Epoch 24, CIFAR-10 Batch 2:  Loss = 0.475, Training_Accuracy = 0.842, Validation_Accuracy = 0.635\n",
      "Epoch 24, CIFAR-10 Batch 3:  Loss = 0.480, Training_Accuracy = 0.850, Validation_Accuracy = 0.630\n",
      "Epoch 24, CIFAR-10 Batch 4:  Loss = 0.499, Training_Accuracy = 0.834, Validation_Accuracy = 0.629\n",
      "Epoch 24, CIFAR-10 Batch 5:  Loss = 0.458, Training_Accuracy = 0.850, Validation_Accuracy = 0.621\n",
      "Epoch 25, CIFAR-10 Batch 1:  Loss = 0.490, Training_Accuracy = 0.827, Validation_Accuracy = 0.636\n",
      "Epoch 25, CIFAR-10 Batch 2:  Loss = 0.486, Training_Accuracy = 0.837, Validation_Accuracy = 0.617\n",
      "Epoch 25, CIFAR-10 Batch 3:  Loss = 0.474, Training_Accuracy = 0.833, Validation_Accuracy = 0.624\n",
      "Epoch 25, CIFAR-10 Batch 4:  Loss = 0.482, Training_Accuracy = 0.834, Validation_Accuracy = 0.629\n",
      "Epoch 25, CIFAR-10 Batch 5:  Loss = 0.429, Training_Accuracy = 0.869, Validation_Accuracy = 0.632\n",
      "Epoch 26, CIFAR-10 Batch 1:  Loss = 0.452, Training_Accuracy = 0.854, Validation_Accuracy = 0.637\n",
      "Epoch 26, CIFAR-10 Batch 2:  Loss = 0.497, Training_Accuracy = 0.830, Validation_Accuracy = 0.611\n",
      "Epoch 26, CIFAR-10 Batch 3:  Loss = 0.489, Training_Accuracy = 0.848, Validation_Accuracy = 0.617\n",
      "Epoch 26, CIFAR-10 Batch 4:  Loss = 0.465, Training_Accuracy = 0.838, Validation_Accuracy = 0.630\n",
      "Epoch 26, CIFAR-10 Batch 5:  Loss = 0.437, Training_Accuracy = 0.873, Validation_Accuracy = 0.635\n",
      "Epoch 27, CIFAR-10 Batch 1:  Loss = 0.469, Training_Accuracy = 0.855, Validation_Accuracy = 0.629\n",
      "Epoch 27, CIFAR-10 Batch 2:  Loss = 0.513, Training_Accuracy = 0.827, Validation_Accuracy = 0.597\n",
      "Epoch 27, CIFAR-10 Batch 3:  Loss = 0.511, Training_Accuracy = 0.832, Validation_Accuracy = 0.616\n",
      "Epoch 27, CIFAR-10 Batch 4:  Loss = 0.482, Training_Accuracy = 0.832, Validation_Accuracy = 0.620\n",
      "Epoch 27, CIFAR-10 Batch 5:  Loss = 0.426, Training_Accuracy = 0.861, Validation_Accuracy = 0.634\n",
      "Epoch 28, CIFAR-10 Batch 1:  Loss = 0.461, Training_Accuracy = 0.856, Validation_Accuracy = 0.626\n",
      "Epoch 28, CIFAR-10 Batch 2:  Loss = 0.446, Training_Accuracy = 0.848, Validation_Accuracy = 0.609\n",
      "Epoch 28, CIFAR-10 Batch 3:  Loss = 0.508, Training_Accuracy = 0.840, Validation_Accuracy = 0.608\n",
      "Epoch 28, CIFAR-10 Batch 4:  Loss = 0.448, Training_Accuracy = 0.853, Validation_Accuracy = 0.632\n",
      "Epoch 28, CIFAR-10 Batch 5:  Loss = 0.416, Training_Accuracy = 0.866, Validation_Accuracy = 0.631\n",
      "Epoch 29, CIFAR-10 Batch 1:  Loss = 0.451, Training_Accuracy = 0.849, Validation_Accuracy = 0.628\n",
      "Epoch 29, CIFAR-10 Batch 2:  Loss = 0.425, Training_Accuracy = 0.851, Validation_Accuracy = 0.612\n",
      "Epoch 29, CIFAR-10 Batch 3:  Loss = 0.448, Training_Accuracy = 0.859, Validation_Accuracy = 0.636\n",
      "Epoch 29, CIFAR-10 Batch 4:  Loss = 0.467, Training_Accuracy = 0.834, Validation_Accuracy = 0.625\n",
      "Epoch 29, CIFAR-10 Batch 5:  Loss = 0.407, Training_Accuracy = 0.866, Validation_Accuracy = 0.631\n",
      "Epoch 30, CIFAR-10 Batch 1:  Loss = 0.460, Training_Accuracy = 0.863, Validation_Accuracy = 0.631\n",
      "Epoch 30, CIFAR-10 Batch 2:  Loss = 0.415, Training_Accuracy = 0.859, Validation_Accuracy = 0.622\n",
      "Epoch 30, CIFAR-10 Batch 3:  Loss = 0.435, Training_Accuracy = 0.850, Validation_Accuracy = 0.631\n",
      "Epoch 30, CIFAR-10 Batch 4:  Loss = 0.420, Training_Accuracy = 0.856, Validation_Accuracy = 0.623\n",
      "Epoch 30, CIFAR-10 Batch 5:  Loss = 0.407, Training_Accuracy = 0.869, Validation_Accuracy = 0.621\n"
     ]
    }
   ],
   "source": [
    "\"\"\"\n",
    "DON'T MODIFY ANYTHING IN THIS CELL\n",
    "\"\"\"\n",
    "save_model_path = './image_classification'\n",
    "\n",
    "print('Training...')\n",
    "with tf.Session() as sess:\n",
    "    # Initializing the variables\n",
    "    sess.run(tf.global_variables_initializer())\n",
    "    \n",
    "    # Training cycle\n",
    "    for epoch in range(epochs):\n",
    "        # Loop over all batches\n",
    "        n_batches = 5\n",
    "        for batch_i in range(1, n_batches + 1):\n",
    "            for batch_features, batch_labels in helper.load_preprocess_training_batch(batch_i, batch_size):\n",
    "                train_neural_network(sess, optimizer, keep_probability, batch_features, batch_labels)\n",
    "            print('Epoch {:>2}, CIFAR-10 Batch {}:  '.format(epoch + 1, batch_i), end='')\n",
    "            print_stats(sess, batch_features, batch_labels, cost, accuracy)\n",
    "            \n",
    "    # Save Model\n",
    "    saver = tf.train.Saver()\n",
    "    save_path = saver.save(sess, save_model_path)"
   ]
  },
  {
   "cell_type": "markdown",
   "metadata": {
    "deletable": true,
    "editable": true
   },
   "source": [
    "# Checkpoint\n",
    "The model has been saved to disk.\n",
    "## Test Model\n",
    "Test your model against the test dataset.  This will be your final accuracy. You should have an accuracy greater than 50%. If you don't, keep tweaking the model architecture and parameters."
   ]
  },
  {
   "cell_type": "code",
   "execution_count": 89,
   "metadata": {
    "collapsed": false,
    "deletable": true,
    "editable": true
   },
   "outputs": [
    {
     "name": "stdout",
     "output_type": "stream",
     "text": [
      "Testing Accuracy: 0.624701052904129\n",
      "\n"
     ]
    },
    {
     "data": {
      "image/png": "[encoded data removed]",
      "text/plain": [
       "<matplotlib.figure.Figure at 0x7f3647017ba8>"
      ]
     },
     "metadata": {
      "image/png": {
       "height": 319,
       "width": 355
      }
     },
     "output_type": "display_data"
    }
   ],
   "source": [
    "\"\"\"\n",
    "DON'T MODIFY ANYTHING IN THIS CELL\n",
    "\"\"\"\n",
    "%matplotlib inline\n",
    "%config InlineBackend.figure_format = 'retina'\n",
    "\n",
    "import tensorflow as tf\n",
    "import pickle\n",
    "import helper\n",
    "import random\n",
    "\n",
    "# Set batch size if not already set\n",
    "try:\n",
    "    if batch_size:\n",
    "        pass\n",
    "except NameError:\n",
    "    batch_size = 64\n",
    "\n",
    "save_model_path = './image_classification'\n",
    "n_samples = 4\n",
    "top_n_predictions = 3\n",
    "\n",
    "def test_model():\n",
    "    \"\"\"\n",
    "    Test the saved model against the test dataset\n",
    "    \"\"\"\n",
    "\n",
    "    test_features, test_labels = pickle.load(open('preprocess_test.p', mode='rb'))\n",
    "    loaded_graph = tf.Graph()\n",
    "\n",
    "    with tf.Session(graph=loaded_graph) as sess:\n",
    "        # Load model\n",
    "        loader = tf.train.import_meta_graph(save_model_path + '.meta')\n",
    "        loader.restore(sess, save_model_path)\n",
    "\n",
    "        # Get Tensors from loaded model\n",
    "        loaded_x = loaded_graph.get_tensor_by_name('x:0')\n",
    "        loaded_y = loaded_graph.get_tensor_by_name('y:0')\n",
    "        loaded_keep_prob = loaded_graph.get_tensor_by_name('keep_prob:0')\n",
    "        loaded_logits = loaded_graph.get_tensor_by_name('logits:0')\n",
    "        loaded_acc = loaded_graph.get_tensor_by_name('accuracy:0')\n",
    "        \n",
    "        # Get accuracy in batches for memory limitations\n",
    "        test_batch_acc_total = 0\n",
    "        test_batch_count = 0\n",
    "        \n",
    "        for test_feature_batch, test_label_batch in helper.batch_features_labels(test_features, test_labels, batch_size):\n",
    "            test_batch_acc_total += sess.run(\n",
    "                loaded_acc,\n",
    "                feed_dict={loaded_x: test_feature_batch, loaded_y: test_label_batch, loaded_keep_prob: 1.0})\n",
    "            test_batch_count += 1\n",
    "\n",
    "        print('Testing Accuracy: {}\\n'.format(test_batch_acc_total/test_batch_count))\n",
    "\n",
    "        # Print Random Samples\n",
    "        random_test_features, random_test_labels = tuple(zip(*random.sample(list(zip(test_features, test_labels)), n_samples)))\n",
    "        random_test_predictions = sess.run(\n",
    "            tf.nn.top_k(tf.nn.softmax(loaded_logits), top_n_predictions),\n",
    "            feed_dict={loaded_x: random_test_features, loaded_y: random_test_labels, loaded_keep_prob: 1.0})\n",
    "        helper.display_image_predictions(random_test_features, random_test_labels, random_test_predictions)\n",
    "\n",
    "\n",
    "test_model()"
   ]
  },
  {
   "cell_type": "markdown",
   "metadata": {
    "deletable": true,
    "editable": true
   },
   "source": [
    "## Why 50-80% Accuracy?\n",
    "You might be wondering why you can't get an accuracy any higher. First things first, 50% isn't bad for a simple CNN.  Pure guessing would get you 10% accuracy. However, you might notice people are getting scores [well above 80%](http://rodrigob.github.io/are_we_there_yet/build/classification_datasets_results.html#43494641522d3130).  That's because we haven't taught you all there is to know about neural networks. We still need to cover a few more techniques.\n",
    "## Submitting This Project\n",
    "When submitting this project, make sure to run all the cells before saving the notebook.  Save the notebook file as \"dlnd_image_classification.ipynb\" and save it as a HTML file under \"File\" -> \"Download as\".  Include the \"helper.py\" and \"problem_unittests.py\" files in your submission."
   ]
  },
  {
   "cell_type": "code",
   "execution_count": null,
   "metadata": {
    "collapsed": true
   },
   "outputs": [],
   "source": []
  }
 ],
 "metadata": {
  "kernelspec": {
   "display_name": "Python 3",
   "language": "python",
   "name": "python3"
  },
  "language_info": {
   "codemirror_mode": {
    "name": "ipython",
    "version": 3
   },
   "file_extension": ".py",
   "mimetype": "text/x-python",
   "name": "python",
   "nbconvert_exporter": "python",
   "pygments_lexer": "ipython3",
   "version": "3.5.2"
  },
  "widgets": {
   "state": {},
   "version": "1.1.2"
  }
 },
 "nbformat": 4,
 "nbformat_minor": 1
}
